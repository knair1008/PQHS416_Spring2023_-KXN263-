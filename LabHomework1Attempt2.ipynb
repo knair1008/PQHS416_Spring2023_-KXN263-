{
 "cells": [
  {
   "cell_type": "code",
   "execution_count": 1,
   "id": "a9729d9a-1b01-4a98-a9f7-c478254c302f",
   "metadata": {},
   "outputs": [],
   "source": [
    "#Question 1 - Find mean, median, mode, range of list \n",
    "#digit_list = [10, 10, 23, 23, 34, 34, 3, 3, 42, 42, 5, 5, 15,1 5, 6, 7, 8, 9, 10, 11, 12, 13, 14, 15, 16, 17, 20, 2]\n",
    "\n"
   ]
  },
  {
   "cell_type": "code",
   "execution_count": 6,
   "id": "cd5aa5be-3cf6-46ed-aa56-79172bc32214",
   "metadata": {},
   "outputs": [
    {
     "name": "stdout",
     "output_type": "stream",
     "text": [
      "15.142857142857142\n"
     ]
    }
   ],
   "source": [
    "#Mean: sum of all the numbers in digit_list / the number of instances in digit list \n",
    "#I initially thought the best way to do this was (below), but this was before I realized that were were only supposed to use loops for this - but could not figure it out. \n",
    "\n",
    "digit_list = [10, 10, 23, 23, 34, 34, 3, 3, 42, 42, 5, 5, 15, 15, 6, 7, 8, 9, 10, 11, 12, 13, 14, 15, 16, 17, 20, 2]\n",
    "mean1 = sum(digit_list)/len(digit_list)\n",
    "print (mean1)"
   ]
  },
  {
   "cell_type": "code",
   "execution_count": 9,
   "id": "808a1419-d35c-4573-bf2b-f2e755836c0e",
   "metadata": {},
   "outputs": [
    {
     "name": "stdout",
     "output_type": "stream",
     "text": [
      "[2, 3, 3, 5, 5, 6, 7, 8, 9, 10, 10, 10, 11, 12, 13, 14, 15, 15, 15, 16, 17, 20, 23, 23, 34, 34, 42, 42]\n"
     ]
    }
   ],
   "source": [
    "#Median: the number that is in the middle of the data set when it is arranged in ascending order numerically. \n",
    "#First arrange the data set numerically \n",
    "\n",
    "sorted = (sorted(digit_list))\n",
    "print (sorted)\n",
    "\n"
   ]
  },
  {
   "cell_type": "code",
   "execution_count": 14,
   "id": "8249926d-2e0a-4c16-aa39-f3e44d7a9216",
   "metadata": {},
   "outputs": [
    {
     "ename": "TypeError",
     "evalue": "list indices must be integers or slices, not float",
     "output_type": "error",
     "traceback": [
      "\u001b[0;31m---------------------------------------------------------------------------\u001b[0m",
      "\u001b[0;31mTypeError\u001b[0m                                 Traceback (most recent call last)",
      "Cell \u001b[0;32mIn[14], line 10\u001b[0m\n\u001b[1;32m      5\u001b[0m y \u001b[38;5;241m=\u001b[39m (\u001b[38;5;28mlen\u001b[39m(digit_list)\u001b[38;5;241m/\u001b[39m\u001b[38;5;241m2\u001b[39m)\u001b[38;5;241m+\u001b[39m\u001b[38;5;241m1\u001b[39m\n\u001b[1;32m      8\u001b[0m \u001b[38;5;66;03m#The Median will be the average of x and y \u001b[39;00m\n\u001b[0;32m---> 10\u001b[0m median \u001b[38;5;241m=\u001b[39m (\u001b[43mdigit_list\u001b[49m\u001b[43m[\u001b[49m\u001b[43mx\u001b[49m\u001b[43m]\u001b[49m \u001b[38;5;241m+\u001b[39m digit_list[y])\u001b[38;5;241m/\u001b[39m\u001b[38;5;241m2\u001b[39m\n\u001b[1;32m     11\u001b[0m \u001b[38;5;28mprint\u001b[39m (median)\n",
      "\u001b[0;31mTypeError\u001b[0m: list indices must be integers or slices, not float"
     ]
    }
   ],
   "source": [
    "#This data set has 28 data points, which is an even number. We will need to get the average of the 2 middle data elements to find the median. \n",
    "#Define the middle data elements -> instances where the len(digit_list) is divided by 2?\n",
    "\n",
    "x = len(digit_list)/2 #14th instance of digit list \n",
    "y = (len(digit_list)/2)+1 #15th instance of digit list \n",
    "\n",
    "\n",
    "#The Median will be the average of x and y --> this was the idea I was going for, but it didn not work when I tried to write it as below \n",
    "\n",
    "median = (digit_list[x] + digit_list[y])/2\n",
    "print (median)"
   ]
  },
  {
   "cell_type": "code",
   "execution_count": 21,
   "id": "d21d656a-602b-4bab-b43a-28bc7b054894",
   "metadata": {},
   "outputs": [
    {
     "name": "stdout",
     "output_type": "stream",
     "text": [
      "<function mode at 0x10649f380>\n"
     ]
    }
   ],
   "source": [
    "#Mode: the number that occurs the most number of times in a data set \n",
    "#Need a way to count through the data set and compare the number of times that value appears to the previous value recorded, until you reach the max number \n",
    "\n",
    "def mode(digit_list):\n",
    "    for i in range(0, len(digit_list)): #for all the instances between 0 and the length of digit list \n",
    "        counter = digit_list.count[i]  #count the number of times the number appears in digit list \n",
    "        if counter > digit_list.count[0]: #if that count number is greater than the previous count \n",
    "            counter = digit_list.count[0]\n",
    "            \n",
    "print (mode)\n"
   ]
  },
  {
   "cell_type": "code",
   "execution_count": 6,
   "id": "f489153f-a6c5-47bf-b1ae-f0d15ffa5fd8",
   "metadata": {},
   "outputs": [
    {
     "name": "stdout",
     "output_type": "stream",
     "text": [
      "40\n"
     ]
    }
   ],
   "source": [
    "#Range : difference between the highest and lowest numbers in a set \n",
    "#Need to find a way to subtract mininum value of digit list from maximum value of digit list  \n",
    "\n",
    "digit_list = [10, 10, 23, 23, 34, 34, 3, 3, 42, 42, 5, 5, 15, 15, 6, 7, 8, 9, 10, 11, 12, 13, 14, 15, 16, 17, 20, 2]\n",
    "\n",
    "range = max(digit_list) - min(digit_list)\n",
    "    \n",
    "print (range)"
   ]
  },
  {
   "cell_type": "code",
   "execution_count": 7,
   "id": "24bb89e2-c5b8-4d78-aa4e-41a010cd2804",
   "metadata": {},
   "outputs": [
    {
     "name": "stdout",
     "output_type": "stream",
     "text": [
      "2\n"
     ]
    }
   ],
   "source": [
    "min_val = digit_list[0]\n",
    "\n",
    "for list_value in digit_list:\n",
    "    if min_val > list_value:\n",
    "        min_val = list_value\n",
    "        \n",
    "print (min_val)"
   ]
  },
  {
   "cell_type": "code",
   "execution_count": 8,
   "id": "775300bf-f76b-4bb9-bbd9-275a4e289c23",
   "metadata": {},
   "outputs": [
    {
     "name": "stdout",
     "output_type": "stream",
     "text": [
      "42\n"
     ]
    }
   ],
   "source": [
    "max_val = digit_list [0]\n",
    "for list_value in digit_list:\n",
    "    if max_val < list_value:\n",
    "        max_val = list_value \n",
    "print (max_val)"
   ]
  },
  {
   "cell_type": "code",
   "execution_count": 15,
   "id": "0b50cc47-a2e6-4784-8dfb-dab680f292ae",
   "metadata": {},
   "outputs": [
    {
     "ename": "SyntaxError",
     "evalue": "cannot assign to expression here. Maybe you meant '==' instead of '='? (1066650381.py, line 1)",
     "output_type": "error",
     "traceback": [
      "\u001b[0;36m  Cell \u001b[0;32mIn[15], line 1\u001b[0;36m\u001b[0m\n\u001b[0;31m    (max_val) - (min_val) = range2\u001b[0m\n\u001b[0m    ^\u001b[0m\n\u001b[0;31mSyntaxError\u001b[0m\u001b[0;31m:\u001b[0m cannot assign to expression here. Maybe you meant '==' instead of '='?\n"
     ]
    }
   ],
   "source": [
    "(max_val) - (min_val) = range2\n",
    "print (range2)"
   ]
  },
  {
   "cell_type": "code",
   "execution_count": 38,
   "id": "c7da1890-5f71-443e-ba0c-73fda685b262",
   "metadata": {},
   "outputs": [
    {
     "ename": "SyntaxError",
     "evalue": "invalid syntax (3473773632.py, line 14)",
     "output_type": "error",
     "traceback": [
      "\u001b[0;36m  Cell \u001b[0;32mIn[38], line 14\u001b[0;36m\u001b[0m\n\u001b[0;31m    For character in manifesto_string\u001b[0m\n\u001b[0m        ^\u001b[0m\n\u001b[0;31mSyntaxError\u001b[0m\u001b[0;31m:\u001b[0m invalid syntax\n"
     ]
    }
   ],
   "source": [
    "#Write a loop to count the number of occurrences of all the characters (letters, digits, and symbols) in the sentence\n",
    "#Saved as a string titled manifesto_string and store the information in a dictionary \n",
    "#Dictionary needs one key for each unique letter/digit/symbol and the value associated with that key should be an \n",
    "#integer representing the number of times that the character shows up in the paragraph \n",
    "\n",
    "\n",
    "manifesto_string = \"The python manifesto, aka the 'Zen of Python' is a simple set of rules and  guidelines for writing computer programs that influenced the design of Python. These rules are as  follows: 'Beautiful is better than ugly. Explicit is better than implicit. Simple is better than complex.  Complex is better than complicated. Flat is better than nested. Sparse is better than dense. Readability  counts. Special cases aren’t special enough to break the rules. Although practicality beats purity.  Errors should never pass silently. Unless explicitly silenced. In the face of ambiguity, refuse the  temptation to guess. There should be one- and preferably only one -obvious way to do it. Although  that way may not be obvious at first. Now is better than never. Although never is often better than  right now. If the implementation is hard to explain, it’s a bad idea. If the implementation is easy to  explain, it may be a good idea. Namespaces are one honking great idea – let’s do more of those!'\"\n",
    "\n",
    "#First create/declare the dictionary \n",
    "\n",
    "characters = { }\n",
    "\n",
    "#now check for the frequency of each character, and add 1 to that number to account for each instance in which it is found, and if it is not found keep the count at 1  \n",
    "For character in manifesto_string\n",
    "    countOfChar = 0\n",
    "    if countOfChar in manifesto_spring: \n",
    "        characters[i] + 1\n",
    "    else:\n",
    "        characters = 1\n",
    "\n"
   ]
  },
  {
   "cell_type": "code",
   "execution_count": null,
   "id": "ef18d6dc-c0c3-4a06-ab09-2185903b93fd",
   "metadata": {},
   "outputs": [],
   "source": [
    "#Question 3\n",
    "#Using a loop, compare the strings below and print the indices at which they are different. \n",
    "#Also print the  character at that index for each word. \n",
    "#Hint: recall that you can index a string just like a list \n",
    "\n",
    "#correct_string = \"Bright night not bright light\" \n",
    "#incorrect_string = \"Bright light not bright night\"\n",
    "\n",
    "#First I would create a function to evaluate how the 2 lists are different by comparing the keys against eachother \n",
    "#But I have no idea how to do this even after looking online/reading python help articles that Katrina sent me "
   ]
  }
 ],
 "metadata": {
  "kernelspec": {
   "display_name": "Python 3 (ipykernel)",
   "language": "python",
   "name": "python3"
  },
  "language_info": {
   "codemirror_mode": {
    "name": "ipython",
    "version": 3
   },
   "file_extension": ".py",
   "mimetype": "text/x-python",
   "name": "python",
   "nbconvert_exporter": "python",
   "pygments_lexer": "ipython3",
   "version": "3.11.1"
  }
 },
 "nbformat": 4,
 "nbformat_minor": 5
}
