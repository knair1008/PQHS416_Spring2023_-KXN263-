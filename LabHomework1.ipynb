{
 "cells": [
  {
   "cell_type": "code",
   "execution_count": 1,
   "id": "a9729d9a-1b01-4a98-a9f7-c478254c302f",
   "metadata": {},
   "outputs": [],
   "source": [
    "#Question 1 - Find mean, median, mode, range of list \n",
    "#digit_list = [10, 10, 23, 23, 34, 34, 3, 3, 42, 42, 5, 5, 15,1 5, 6, 7, 8, 9, 10, 11, 12, 13, 14, 15, 16, 17, 20, 2]\n",
    "\n"
   ]
  },
  {
   "cell_type": "code",
   "execution_count": 6,
   "id": "cd5aa5be-3cf6-46ed-aa56-79172bc32214",
   "metadata": {},
   "outputs": [
    {
     "name": "stdout",
     "output_type": "stream",
     "text": [
      "15.142857142857142\n"
     ]
    }
   ],
   "source": [
    "#Mean: sum of all the numbers in digit_list / the number of instances in digit list \n",
    "#I initially thought the best way to do this was (below), but this was before I realized that were were only supposed to use loops for this - but could not figure it out. \n",
    "\n",
    "digit_list = [10, 10, 23, 23, 34, 34, 3, 3, 42, 42, 5, 5, 15, 15, 6, 7, 8, 9, 10, 11, 12, 13, 14, 15, 16, 17, 20, 2]\n",
    "mean1 = sum(digit_list)/len(digit_list)\n",
    "print (mean1)"
   ]
  },
  {
   "cell_type": "code",
   "execution_count": 9,
   "id": "808a1419-d35c-4573-bf2b-f2e755836c0e",
   "metadata": {},
   "outputs": [
    {
     "name": "stdout",
     "output_type": "stream",
     "text": [
      "[2, 3, 3, 5, 5, 6, 7, 8, 9, 10, 10, 10, 11, 12, 13, 14, 15, 15, 15, 16, 17, 20, 23, 23, 34, 34, 42, 42]\n"
     ]
    }
   ],
   "source": [
    "#Median: the number that is in the middle of the data set when it is arranged in ascending order numerically. \n",
    "#First arrange the data set numerically \n",
    "\n",
    "sorted = (sorted(digit_list))\n",
    "print (sorted)\n",
    "\n"
   ]
  },
  {
   "cell_type": "code",
   "execution_count": 14,
   "id": "8249926d-2e0a-4c16-aa39-f3e44d7a9216",
   "metadata": {},
   "outputs": [
    {
     "ename": "TypeError",
     "evalue": "list indices must be integers or slices, not float",
     "output_type": "error",
     "traceback": [
      "\u001b[0;31m---------------------------------------------------------------------------\u001b[0m",
      "\u001b[0;31mTypeError\u001b[0m                                 Traceback (most recent call last)",
      "Cell \u001b[0;32mIn[14], line 10\u001b[0m\n\u001b[1;32m      5\u001b[0m y \u001b[38;5;241m=\u001b[39m (\u001b[38;5;28mlen\u001b[39m(digit_list)\u001b[38;5;241m/\u001b[39m\u001b[38;5;241m2\u001b[39m)\u001b[38;5;241m+\u001b[39m\u001b[38;5;241m1\u001b[39m\n\u001b[1;32m      8\u001b[0m \u001b[38;5;66;03m#The Median will be the average of x and y \u001b[39;00m\n\u001b[0;32m---> 10\u001b[0m median \u001b[38;5;241m=\u001b[39m (\u001b[43mdigit_list\u001b[49m\u001b[43m[\u001b[49m\u001b[43mx\u001b[49m\u001b[43m]\u001b[49m \u001b[38;5;241m+\u001b[39m digit_list[y])\u001b[38;5;241m/\u001b[39m\u001b[38;5;241m2\u001b[39m\n\u001b[1;32m     11\u001b[0m \u001b[38;5;28mprint\u001b[39m (median)\n",
      "\u001b[0;31mTypeError\u001b[0m: list indices must be integers or slices, not float"
     ]
    }
   ],
   "source": [
    "#This data set has 28 data points, which is an even number. We will need to get the average of the 2 middle data elements to find the median. \n",
    "#Define the middle data elements -> instances where the len(digit_list) is divided by 2?\n",
    "\n",
    "x = len(digit_list)/2 #14th instance of digit list \n",
    "y = (len(digit_list)/2)+1 #15th instance of digit list \n",
    "\n",
    "\n",
    "#The Median will be the average of x and y --> this was the idea I was going for, but it didn not work when I tried to write it as below \n",
    "\n",
    "median = (digit_list[x] + digit_list[y])/2\n",
    "print (median)"
   ]
  },
  {
   "cell_type": "code",
   "execution_count": 21,
   "id": "d21d656a-602b-4bab-b43a-28bc7b054894",
   "metadata": {},
   "outputs": [
    {
     "name": "stdout",
     "output_type": "stream",
     "text": [
      "<function mode at 0x10649f380>\n"
     ]
    }
   ],
   "source": [
    "#Mode: the number that occurs the most number of times in a data set \n",
    "#Need a way to count through the data set and compare the number of times that value appears to the previous value recorded, until you reach the max number \n",
    "\n",
    "def mode(digit_list):\n",
    "    for i in range(0, len(digit_list)): #for all the instances between 0 and the length of digit list \n",
    "        counter = digit_list.count[i]  #count the number of times the number appears in digit list \n",
    "        if counter > digit_list.count[0]: #if that count number is greater than the previous count \n",
    "            counter = digit_list.count[0]\n",
    "            \n",
    "print (mode)\n"
   ]
  },
  {
   "cell_type": "code",
   "execution_count": null,
   "id": "f489153f-a6c5-47bf-b1ae-f0d15ffa5fd8",
   "metadata": {},
   "outputs": [],
   "source": []
  }
 ],
 "metadata": {
  "kernelspec": {
   "display_name": "Python 3 (ipykernel)",
   "language": "python",
   "name": "python3"
  },
  "language_info": {
   "codemirror_mode": {
    "name": "ipython",
    "version": 3
   },
   "file_extension": ".py",
   "mimetype": "text/x-python",
   "name": "python",
   "nbconvert_exporter": "python",
   "pygments_lexer": "ipython3",
   "version": "3.11.1"
  }
 },
 "nbformat": 4,
 "nbformat_minor": 5
}
